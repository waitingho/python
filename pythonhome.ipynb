{
 "cells": [
  {
   "cell_type": "code",
   "execution_count": 23,
   "metadata": {},
   "outputs": [
    {
     "name": "stdout",
     "output_type": "stream",
     "text": [
      "o\n",
      "d\n"
     ]
    }
   ],
   "source": [
    "if True:\n",
    "# 蓋你\n",
    "    print(\"o\")\n",
    "    print(\"d\")\n",
    "    "
   ]
  },
  {
   "cell_type": "code",
   "execution_count": 30,
   "metadata": {
    "scrolled": true
   },
   "outputs": [
    {
     "name": "stdout",
     "output_type": "stream",
     "text": [
      "['/Users/heweiting/anaconda/lib/python3.6/site-packages/ipykernel_launcher.py', '-f', '/Users/heweiting/Library/Jupyter/runtime/kernel-72eedd39-1fac-46c6-a7e2-f777a051edde.json']\n"
     ]
    }
   ],
   "source": [
    "import sys\n",
    "print(sys.argv)\n",
    "\n"
   ]
  },
  {
   "cell_type": "code",
   "execution_count": 35,
   "metadata": {},
   "outputs": [
    {
     "name": "stdout",
     "output_type": "stream",
     "text": [
      "24\n"
     ]
    }
   ],
   "source": [
    "a = 2\n",
    "b = 4\n",
    "print(a, end='')\n",
    "print(b)\n",
    "\n"
   ]
  },
  {
   "cell_type": "code",
   "execution_count": 49,
   "metadata": {},
   "outputs": [
    {
     "name": "stdout",
     "output_type": "stream",
     "text": [
      "number: 23        ,string: 幹你娘\n"
     ]
    }
   ],
   "source": [
    "a = 23\n",
    "b = '幹你娘'\n",
    "print('number: %-10d,string: %s' %(a,b))"
   ]
  },
  {
   "cell_type": "code",
   "execution_count": 54,
   "metadata": {},
   "outputs": [
    {
     "name": "stdout",
     "output_type": "stream",
     "text": [
      "number:23, string:幹你娘\n"
     ]
    }
   ],
   "source": [
    "print('number:{}, string:{}'.format(a,b))"
   ]
  },
  {
   "cell_type": "code",
   "execution_count": 60,
   "metadata": {
    "collapsed": true
   },
   "outputs": [],
   "source": [
    "a:int = 10\n",
    "a = \"34\""
   ]
  },
  {
   "cell_type": "code",
   "execution_count": 62,
   "metadata": {},
   "outputs": [
    {
     "data": {
      "text/plain": [
       "str"
      ]
     },
     "execution_count": 62,
     "metadata": {},
     "output_type": "execute_result"
    }
   ],
   "source": [
    "type(a)"
   ]
  },
  {
   "cell_type": "code",
   "execution_count": 64,
   "metadata": {},
   "outputs": [
    {
     "name": "stdout",
     "output_type": "stream",
     "text": [
      "1234\n"
     ]
    }
   ],
   "source": [
    "a = 1_2_3_4\n",
    "print(a)"
   ]
  },
  {
   "cell_type": "code",
   "execution_count": 76,
   "metadata": {},
   "outputs": [
    {
     "name": "stdout",
     "output_type": "stream",
     "text": [
      "t\n"
     ]
    }
   ],
   "source": [
    "a = 0.3\n",
    "b = 0.1 \n",
    "\n",
    "if a==b:\n",
    "    print(True)\n",
    "else:\n",
    "    print(\"t\")"
   ]
  },
  {
   "cell_type": "code",
   "execution_count": 4,
   "metadata": {},
   "outputs": [
    {
     "name": "stdout",
     "output_type": "stream",
     "text": [
      "False\n"
     ]
    }
   ],
   "source": [
    "a = 0.3\n",
    "b= 0.1+0.1+0.1\n",
    "\n",
    "print(a==b)"
   ]
  },
  {
   "cell_type": "code",
   "execution_count": null,
   "metadata": {
    "collapsed": true
   },
   "outputs": [],
   "source": []
  },
  {
   "cell_type": "code",
   "execution_count": 2,
   "metadata": {},
   "outputs": [
    {
     "name": "stdout",
     "output_type": "stream",
     "text": [
      "逢\n"
     ]
    }
   ],
   "source": [
    "a = '\\u9022'\n",
    "print(a)"
   ]
  },
  {
   "cell_type": "code",
   "execution_count": 89,
   "metadata": {},
   "outputs": [
    {
     "ename": "NameError",
     "evalue": "name 'hello' is not defined",
     "output_type": "error",
     "traceback": [
      "\u001b[0;31m---------------------------------------------------------------------------\u001b[0m",
      "\u001b[0;31mNameError\u001b[0m                                 Traceback (most recent call last)",
      "\u001b[0;32m<ipython-input-89-b5fe3327561a>\u001b[0m in \u001b[0;36m<module>\u001b[0;34m()\u001b[0m\n\u001b[0;32m----> 1\u001b[0;31m \u001b[0ma\u001b[0m \u001b[0;34m=\u001b[0m \u001b[0mhello\u001b[0m\u001b[0;34m\u001b[0m\u001b[0m\n\u001b[0m\u001b[1;32m      2\u001b[0m \u001b[0;34m\u001b[0m\u001b[0m\n\u001b[1;32m      3\u001b[0m \u001b[0mprint\u001b[0m\u001b[0;34m(\u001b[0m\u001b[0ma\u001b[0m\u001b[0;34m)\u001b[0m\u001b[0;34m\u001b[0m\u001b[0m\n",
      "\u001b[0;31mNameError\u001b[0m: name 'hello' is not defined"
     ]
    }
   ],
   "source": [
    "a = hello\n",
    "\n",
    "print(a)"
   ]
  },
  {
   "cell_type": "code",
   "execution_count": 1,
   "metadata": {
    "scrolled": true
   },
   "outputs": [
    {
     "ename": "NameError",
     "evalue": "name 'yy' is not defined",
     "output_type": "error",
     "traceback": [
      "\u001b[0;31m---------------------------------------------------------------------------\u001b[0m",
      "\u001b[0;31mNameError\u001b[0m                                 Traceback (most recent call last)",
      "\u001b[0;32m<ipython-input-1-ee8f41a7a354>\u001b[0m in \u001b[0;36m<module>\u001b[0;34m()\u001b[0m\n\u001b[1;32m      4\u001b[0m \u001b[0mv1\u001b[0m \u001b[0;34m=\u001b[0m \u001b[0;32mNone\u001b[0m\u001b[0;34m\u001b[0m\u001b[0m\n\u001b[1;32m      5\u001b[0m \u001b[0;34m\u001b[0m\u001b[0m\n\u001b[0;32m----> 6\u001b[0;31m \u001b[0mprint\u001b[0m\u001b[0;34m(\u001b[0m\u001b[0mtype\u001b[0m\u001b[0;34m(\u001b[0m\u001b[0myy\u001b[0m\u001b[0;34m)\u001b[0m\u001b[0;34m)\u001b[0m\u001b[0;34m\u001b[0m\u001b[0m\n\u001b[0m\u001b[1;32m      7\u001b[0m \u001b[0;34m\u001b[0m\u001b[0m\n\u001b[1;32m      8\u001b[0m \u001b[0mprint\u001b[0m\u001b[0;34m(\u001b[0m\u001b[0misinstance\u001b[0m\u001b[0;34m(\u001b[0m\u001b[0myy\u001b[0m\u001b[0;34m,\u001b[0m\u001b[0mint\u001b[0m\u001b[0;34m)\u001b[0m\u001b[0;34m)\u001b[0m\u001b[0;34m\u001b[0m\u001b[0m\n",
      "\u001b[0;31mNameError\u001b[0m: name 'yy' is not defined"
     ]
    }
   ],
   "source": [
    "xx = 'hello'\n",
    "#yy = 1234\n",
    "\n",
    "v1 = None\n",
    "\n",
    "print(type(yy))\n",
    "\n",
    "print(isinstance(yy,int))"
   ]
  },
  {
   "cell_type": "code",
   "execution_count": 13,
   "metadata": {},
   "outputs": [
    {
     "name": "stdout",
     "output_type": "stream",
     "text": [
      "1.7320508075688772\n"
     ]
    }
   ],
   "source": [
    "a = 3 ** (1/2)\n",
    "print(a)"
   ]
  },
  {
   "cell_type": "code",
   "execution_count": 16,
   "metadata": {},
   "outputs": [
    {
     "data": {
      "text/plain": [
       "2"
      ]
     },
     "execution_count": 16,
     "metadata": {},
     "output_type": "execute_result"
    }
   ],
   "source": [
    "4 // 2"
   ]
  },
  {
   "cell_type": "code",
   "execution_count": 18,
   "metadata": {},
   "outputs": [
    {
     "data": {
      "text/plain": [
       "0.3333333333333333"
      ]
     },
     "execution_count": 18,
     "metadata": {},
     "output_type": "execute_result"
    }
   ],
   "source": [
    "1/3"
   ]
  },
  {
   "cell_type": "code",
   "execution_count": 28,
   "metadata": {},
   "outputs": [
    {
     "name": "stdout",
     "output_type": "stream",
     "text": [
      "2\n"
     ]
    }
   ],
   "source": [
    "print(5>>1)"
   ]
  },
  {
   "cell_type": "code",
   "execution_count": 33,
   "metadata": {},
   "outputs": [
    {
     "name": "stdout",
     "output_type": "stream",
     "text": [
      "0\n",
      "2\n"
     ]
    }
   ],
   "source": [
    "manager = 4\n",
    "engineer= 2\n",
    "employee = 1\n",
    "\n",
    "ra = 4\n",
    "\n",
    "rb = 2\n",
    "\n",
    "re = 1\n",
    "\n",
    "userRole = engineer\n",
    "\n",
    "print(userRole & ra)\n",
    "print(userRole & rb)"
   ]
  },
  {
   "cell_type": "code",
   "execution_count": 39,
   "metadata": {},
   "outputs": [
    {
     "name": "stdout",
     "output_type": "stream",
     "text": [
      "66666\n"
     ]
    }
   ],
   "source": [
    "a =- 5\n",
    "v = 13 if a>0 else 66666\n",
    "\n",
    "print(v)"
   ]
  },
  {
   "cell_type": "code",
   "execution_count": 60,
   "metadata": {},
   "outputs": [
    {
     "name": "stdout",
     "output_type": "stream",
     "text": [
      "0\n"
     ]
    }
   ],
   "source": [
    "a  = -5\n",
    "if a>0:\n",
    "    a=4\n",
    "else:\n",
    "    a=0\n",
    "    \n",
    "    print(a)"
   ]
  },
  {
   "cell_type": "code",
   "execution_count": 33,
   "metadata": {
    "scrolled": true
   },
   "outputs": [
    {
     "name": "stdout",
     "output_type": "stream",
     "text": [
      "1\n",
      "2\n",
      "3\n",
      "4\n",
      "5\n",
      "6\n",
      "7\n",
      "8\n",
      "9\n",
      "10\n"
     ]
    }
   ],
   "source": [
    "for a in range(1,11):\n",
    "    print(a)"
   ]
  },
  {
   "cell_type": "code",
   "execution_count": null,
   "metadata": {
    "collapsed": true
   },
   "outputs": [],
   "source": []
  },
  {
   "cell_type": "code",
   "execution_count": 23,
   "metadata": {},
   "outputs": [
    {
     "name": "stdout",
     "output_type": "stream",
     "text": [
      "10\n",
      "11\n",
      "12\n",
      "13\n",
      "14\n",
      "15\n"
     ]
    }
   ],
   "source": [
    "a = 10\n",
    "while a <= 15:\n",
    "    print(a)\n",
    "    a =a +1"
   ]
  },
  {
   "cell_type": "code",
   "execution_count": 40,
   "metadata": {},
   "outputs": [
    {
     "name": "stdout",
     "output_type": "stream",
     "text": [
      "b 1\n",
      "b 2\n",
      "b 3\n",
      "b 4\n",
      "b 5\n",
      "b 6\n",
      "b 7\n",
      "b 8\n",
      "b 9\n",
      "b 10\n"
     ]
    }
   ],
   "source": [
    "for a in range(1,11):\n",
    "    print('b',a)\n",
    "    \n",
    "    a == 5\n",
    "    continue"
   ]
  },
  {
   "cell_type": "code",
   "execution_count": 43,
   "metadata": {},
   "outputs": [
    {
     "name": "stdout",
     "output_type": "stream",
     "text": [
      "5\n"
     ]
    }
   ],
   "source": [
    "lst = [1,2,3,4,5]\n",
    "\n",
    "print(lst[-1])"
   ]
  },
  {
   "cell_type": "code",
   "execution_count": 62,
   "metadata": {},
   "outputs": [],
   "source": [
    "a = [2]"
   ]
  },
  {
   "cell_type": "code",
   "execution_count": 64,
   "metadata": {},
   "outputs": [
    {
     "data": {
      "text/plain": [
       "[2]"
      ]
     },
     "execution_count": 64,
     "metadata": {},
     "output_type": "execute_result"
    }
   ],
   "source": [
    "a"
   ]
  },
  {
   "cell_type": "code",
   "execution_count": 70,
   "metadata": {
    "collapsed": true
   },
   "outputs": [],
   "source": [
    "a =(1,)"
   ]
  },
  {
   "cell_type": "code",
   "execution_count": 72,
   "metadata": {
    "scrolled": true
   },
   "outputs": [
    {
     "name": "stdout",
     "output_type": "stream",
     "text": [
      "<class 'tuple'>\n"
     ]
    }
   ],
   "source": [
    "print(type(a))"
   ]
  },
  {
   "cell_type": "code",
   "execution_count": 74,
   "metadata": {},
   "outputs": [
    {
     "name": "stdout",
     "output_type": "stream",
     "text": [
      "<class 'tuple'> (8,)\n"
     ]
    }
   ],
   "source": [
    "a = 8,\n",
    "print(type(a),a)"
   ]
  },
  {
   "cell_type": "code",
   "execution_count": 77,
   "metadata": {},
   "outputs": [
    {
     "name": "stdout",
     "output_type": "stream",
     "text": [
      "<class 'int'> 4\n"
     ]
    }
   ],
   "source": [
    "a,b,c=4,5,6,\n",
    "print(type(a),a)"
   ]
  },
  {
   "cell_type": "code",
   "execution_count": 80,
   "metadata": {},
   "outputs": [
    {
     "name": "stdout",
     "output_type": "stream",
     "text": [
      "*\n",
      "**\n",
      "***\n",
      "****\n",
      "*****\n",
      "******\n",
      "*******\n",
      "********\n",
      "*********\n",
      "**********\n"
     ]
    }
   ],
   "source": [
    "for a in range(1,11):\n",
    "    print(\"*\"*a)"
   ]
  },
  {
   "cell_type": "code",
   "execution_count": 82,
   "metadata": {},
   "outputs": [
    {
     "name": "stdout",
     "output_type": "stream",
     "text": [
      "[1, 2, 3, 4, 5]\n",
      "[1, 2, 3, 4, 5]\n"
     ]
    }
   ],
   "source": [
    "a = [1,2,3,4,5]\n",
    "b = a[:]\n",
    "print(a)\n",
    "print(b)"
   ]
  },
  {
   "cell_type": "code",
   "execution_count": null,
   "metadata": {
    "collapsed": true
   },
   "outputs": [],
   "source": []
  },
  {
   "cell_type": "code",
   "execution_count": 91,
   "metadata": {},
   "outputs": [
    {
     "name": "stdout",
     "output_type": "stream",
     "text": [
      "[1, 2, 3, 4]\n",
      "[1, 2]\n"
     ]
    }
   ],
   "source": [
    "a = [1,2,3,4]\n",
    "b = a[:2]\n",
    "print(a)\n",
    "print(b)\n",
    "\n"
   ]
  },
  {
   "cell_type": "code",
   "execution_count": 93,
   "metadata": {},
   "outputs": [
    {
     "name": "stdout",
     "output_type": "stream",
     "text": [
      "[1, 2, 3, 4, 5]\n",
      "[5]\n"
     ]
    }
   ],
   "source": [
    "a = [1,2,3,4,5]\n",
    "b = a[4:]\n",
    "print(a)\n",
    "print(b)\n"
   ]
  },
  {
   "cell_type": "code",
   "execution_count": 95,
   "metadata": {},
   "outputs": [
    {
     "name": "stdout",
     "output_type": "stream",
     "text": [
      "[1, 2, 3, 4, 5]\n",
      "[3, 4]\n"
     ]
    }
   ],
   "source": [
    "a = [1,2,3,4,5]\n",
    "b = a[2:4]\n",
    "print(a)\n",
    "print(b)"
   ]
  },
  {
   "cell_type": "code",
   "execution_count": 98,
   "metadata": {},
   "outputs": [
    {
     "name": "stdout",
     "output_type": "stream",
     "text": [
      "[1, 2, 3, 4, 5, 6, 7, 8, 9]\n",
      "[1, 4, 7]\n"
     ]
    }
   ],
   "source": [
    "a = [1,2,3,4,5,6,7,8,9]\n",
    "b = a[::3]\n",
    "print(a)\n",
    "print(b)"
   ]
  },
  {
   "cell_type": "code",
   "execution_count": 100,
   "metadata": {
    "collapsed": true
   },
   "outputs": [],
   "source": [
    "a =[v for v in range(5)]"
   ]
  },
  {
   "cell_type": "code",
   "execution_count": 114,
   "metadata": {},
   "outputs": [
    {
     "data": {
      "text/plain": [
       "[1, 3, 5, 2, 6, 10, 4, 12, 20]"
      ]
     },
     "execution_count": 114,
     "metadata": {},
     "output_type": "execute_result"
    }
   ],
   "source": [
    "a"
   ]
  },
  {
   "cell_type": "code",
   "execution_count": 113,
   "metadata": {},
   "outputs": [],
   "source": [
    "a = [a*b for a in [1,2,4] for b in [1,3,5]]"
   ]
  },
  {
   "cell_type": "code",
   "execution_count": 106,
   "metadata": {},
   "outputs": [
    {
     "data": {
      "text/plain": [
       "[1, 3, 5, 2, 6, 10, 4, 12, 20]"
      ]
     },
     "execution_count": 106,
     "metadata": {},
     "output_type": "execute_result"
    }
   ],
   "source": [
    "a"
   ]
  },
  {
   "cell_type": "code",
   "execution_count": 111,
   "metadata": {},
   "outputs": [],
   "source": [
    "a = [a for a in range(1,101)if a %13 == 0]"
   ]
  },
  {
   "cell_type": "code",
   "execution_count": 115,
   "metadata": {
    "scrolled": true
   },
   "outputs": [
    {
     "data": {
      "text/plain": [
       "[1, 3, 5, 2, 6, 10, 4, 12, 20]"
      ]
     },
     "execution_count": 115,
     "metadata": {},
     "output_type": "execute_result"
    }
   ],
   "source": [
    "a"
   ]
  },
  {
   "cell_type": "code",
   "execution_count": 121,
   "metadata": {},
   "outputs": [
    {
     "name": "stdout",
     "output_type": "stream",
     "text": [
      "(0, 1, 2, 3, 4)\n"
     ]
    }
   ],
   "source": [
    "a = (a for a in range(5))\n",
    "print(tuple(a))"
   ]
  },
  {
   "cell_type": "code",
   "execution_count": 120,
   "metadata": {
    "scrolled": true
   },
   "outputs": [
    {
     "data": {
      "text/plain": [
       "<generator object <genexpr> at 0x1122c4728>"
      ]
     },
     "execution_count": 120,
     "metadata": {},
     "output_type": "execute_result"
    }
   ],
   "source": [
    "a"
   ]
  },
  {
   "cell_type": "code",
   "execution_count": 127,
   "metadata": {},
   "outputs": [
    {
     "name": "stdout",
     "output_type": "stream",
     "text": [
      "3\n"
     ]
    }
   ],
   "source": [
    "a = {\"aa\":3, \"bb\":8, 9:\"cc\"}\n",
    "print(a[\"aa\"])"
   ]
  },
  {
   "cell_type": "code",
   "execution_count": 129,
   "metadata": {},
   "outputs": [
    {
     "name": "stdout",
     "output_type": "stream",
     "text": [
      "{1: 2, 3: 4, 5: 6, 7: 8}\n"
     ]
    }
   ],
   "source": [
    "a = [1,3,5,7,]\n",
    "b = [2,4,6,8,]\n",
    "\n",
    "c = dict(zip(a,b))\n",
    "\n",
    "print(c)"
   ]
  },
  {
   "cell_type": "code",
   "execution_count": 137,
   "metadata": {},
   "outputs": [
    {
     "name": "stdout",
     "output_type": "stream",
     "text": [
      "True\n"
     ]
    }
   ],
   "source": [
    "a = [1,3,5,7,]\n",
    "b = [2,4,6,8,]\n",
    "\n",
    "c = dict(zip(a,b))\n",
    "\n",
    "print(2 not in c)"
   ]
  },
  {
   "cell_type": "code",
   "execution_count": 172,
   "metadata": {},
   "outputs": [
    {
     "name": "stdout",
     "output_type": "stream",
     "text": [
      "(1, 2)\n",
      "(3, 4)\n",
      "(5, 6)\n",
      "(7, 8)\n"
     ]
    }
   ],
   "source": [
    "a = [1,3,5,7,]\n",
    "b = [2,4,6,8,]\n",
    "\n",
    "c = dict(zip(a,b))\n",
    "d = c.items()\n",
    "for k ,v in d:   \n",
    "#print(c)\n",
    "    print((k,v))"
   ]
  },
  {
   "cell_type": "code",
   "execution_count": 176,
   "metadata": {},
   "outputs": [
    {
     "name": "stdout",
     "output_type": "stream",
     "text": [
      "{'y', 'd', 'b', 'o', 'python'}\n"
     ]
    }
   ],
   "source": [
    "a = set('body')\n",
    "a.add('python')\n",
    "print(a)"
   ]
  },
  {
   "cell_type": "code",
   "execution_count": 74,
   "metadata": {},
   "outputs": [
    {
     "ename": "NameError",
     "evalue": "name 'lst' is not defined",
     "output_type": "error",
     "traceback": [
      "\u001b[0;31m---------------------------------------------------------------------------\u001b[0m",
      "\u001b[0;31mNameError\u001b[0m                                 Traceback (most recent call last)",
      "\u001b[0;32m<ipython-input-74-3e3d30bf1929>\u001b[0m in \u001b[0;36m<module>\u001b[0;34m()\u001b[0m\n\u001b[1;32m      3\u001b[0m \u001b[0;34m\u001b[0m\u001b[0m\n\u001b[1;32m      4\u001b[0m \u001b[0;32mfor\u001b[0m \u001b[0mi\u001b[0m \u001b[0;32min\u001b[0m \u001b[0mrange\u001b[0m \u001b[0;34m(\u001b[0m\u001b[0;36m550000\u001b[0m\u001b[0;34m)\u001b[0m\u001b[0;34m:\u001b[0m\u001b[0;34m\u001b[0m\u001b[0m\n\u001b[0;32m----> 5\u001b[0;31m     \u001b[0mlst\u001b[0m\u001b[0;34m.\u001b[0m\u001b[0minsert\u001b[0m\u001b[0;34m(\u001b[0m\u001b[0;36m0\u001b[0m\u001b[0;34m,\u001b[0m\u001b[0mi\u001b[0m\u001b[0;34m)\u001b[0m\u001b[0;34m\u001b[0m\u001b[0m\n\u001b[0m\u001b[1;32m      6\u001b[0m \u001b[0mend\u001b[0m \u001b[0;34m=\u001b[0m \u001b[0mint\u001b[0m\u001b[0;34m(\u001b[0m\u001b[0mtime\u001b[0m\u001b[0;34m.\u001b[0m\u001b[0mtime\u001b[0m\u001b[0;34m(\u001b[0m\u001b[0;34m)\u001b[0m\u001b[0;34m*\u001b[0m\u001b[0;36m1000\u001b[0m\u001b[0;34m)\u001b[0m\u001b[0;34m\u001b[0m\u001b[0m\n\u001b[1;32m      7\u001b[0m \u001b[0mprint\u001b[0m\u001b[0;34m(\u001b[0m\u001b[0mend\u001b[0m\u001b[0;34m-\u001b[0m\u001b[0mstart\u001b[0m\u001b[0;34m)\u001b[0m\u001b[0;34m\u001b[0m\u001b[0m\n",
      "\u001b[0;31mNameError\u001b[0m: name 'lst' is not defined"
     ]
    }
   ],
   "source": [
    "import time\n",
    "start = int(time.time()*1000)\n",
    "\n",
    "for i in range (550000):\n",
    "    lst.insert(0,i)\n",
    "end = int(time.time()*1000)\n",
    "print(end-start)"
   ]
  },
  {
   "cell_type": "code",
   "execution_count": 56,
   "metadata": {},
   "outputs": [
    {
     "name": "stdout",
     "output_type": "stream",
     "text": [
      "{'l', 'e', 'rf', 'a', 'p'}\n"
     ]
    }
   ],
   "source": [
    "a = set('apple')\n",
    "\n",
    "a.add('rf')\n",
    "\n",
    "print(a)"
   ]
  },
  {
   "cell_type": "code",
   "execution_count": 58,
   "metadata": {},
   "outputs": [
    {
     "data": {
      "text/plain": [
       "{'c'}"
      ]
     },
     "execution_count": 58,
     "metadata": {},
     "output_type": "execute_result"
    }
   ],
   "source": [
    "a = set('abc')\n",
    "b = set('cdef')\n",
    "\n",
    "a&b"
   ]
  },
  {
   "cell_type": "code",
   "execution_count": 83,
   "metadata": {},
   "outputs": [
    {
     "name": "stdout",
     "output_type": "stream",
     "text": [
      "Help on function fa in module __main__:\n",
      "\n",
      "fa()\n",
      "    fa comment\n",
      "\n"
     ]
    }
   ],
   "source": [
    "def fa():\n",
    "    '''fa comment'''\n",
    "    pass\n",
    "#     print('qwe')\n",
    "help(fa)"
   ]
  },
  {
   "cell_type": "code",
   "execution_count": 78,
   "metadata": {
    "collapsed": true
   },
   "outputs": [],
   "source": [
    "def g():\n",
    "    print('lll')"
   ]
  },
  {
   "cell_type": "code",
   "execution_count": 80,
   "metadata": {
    "scrolled": true
   },
   "outputs": [
    {
     "name": "stdout",
     "output_type": "stream",
     "text": [
      "lll\n"
     ]
    }
   ],
   "source": [
    "g()"
   ]
  },
  {
   "cell_type": "code",
   "execution_count": 84,
   "metadata": {},
   "outputs": [
    {
     "name": "stdout",
     "output_type": "stream",
     "text": [
      "<class 'function'>\n"
     ]
    }
   ],
   "source": [
    "def g():\n",
    "    print('lll')\n",
    "    \n",
    "print(type(g))"
   ]
  },
  {
   "cell_type": "code",
   "execution_count": 98,
   "metadata": {},
   "outputs": [
    {
     "name": "stdout",
     "output_type": "stream",
     "text": [
      "fuck\n",
      "u\n",
      "None\n"
     ]
    }
   ],
   "source": [
    "def ga():\n",
    "    print('fuck')\n",
    "    print('u')\n",
    "    return\n",
    "r = fa()\n",
    "print(r)"
   ]
  },
  {
   "cell_type": "code",
   "execution_count": 100,
   "metadata": {},
   "outputs": [
    {
     "name": "stdout",
     "output_type": "stream",
     "text": [
      "[0, 1, 2, 3, 4]\n"
     ]
    }
   ],
   "source": [
    "def fa():\n",
    "    for v in range(5):\n",
    "        yield v\n",
    "r = fa()\n",
    "print(list(r))"
   ]
  },
  {
   "cell_type": "code",
   "execution_count": 123,
   "metadata": {},
   "outputs": [
    {
     "name": "stdout",
     "output_type": "stream",
     "text": [
      "[0, 1, 1, 2, 3, 5, 8, 13, 21, 34]\n"
     ]
    }
   ],
   "source": [
    "def fab():\n",
    "    \n",
    "    a,b = 0,1\n",
    "    \n",
    "    for _ in range(10):\n",
    "        yield a\n",
    "    \n",
    "        a,b = b, a+b\n",
    "    \n",
    "r = fab()\n",
    "print(list(r))"
   ]
  },
  {
   "cell_type": "code",
   "execution_count": 124,
   "metadata": {},
   "outputs": [
    {
     "name": "stdout",
     "output_type": "stream",
     "text": [
      "[0, 1, 1, 2, 3, 5, 8, 13, 21, 34]\n"
     ]
    }
   ],
   "source": [
    "def fa(n):\n",
    "    a,b = 0,1\n",
    "    for _ in range(n):\n",
    "        yield a\n",
    "        \n",
    "        a,b = b, a+b\n",
    "r = fa(10)\n",
    "print(list(r))\n",
    "    "
   ]
  },
  {
   "cell_type": "code",
   "execution_count": 127,
   "metadata": {},
   "outputs": [
    {
     "name": "stdout",
     "output_type": "stream",
     "text": [
      "hello 100 200 9\n"
     ]
    }
   ],
   "source": [
    "def fa(a = 2, b = 5, c = 7):\n",
    "    print('hello', a,b,c)\n",
    "fa(c = 9, a = 100 , b = 200)"
   ]
  },
  {
   "cell_type": "code",
   "execution_count": 129,
   "metadata": {},
   "outputs": [
    {
     "name": "stdout",
     "output_type": "stream",
     "text": [
      "hello a\n"
     ]
    }
   ],
   "source": [
    "def fa(a:int):\n",
    "    print('hello',a)\n",
    "fa('a')"
   ]
  },
  {
   "cell_type": "code",
   "execution_count": 136,
   "metadata": {},
   "outputs": [
    {
     "name": "stdout",
     "output_type": "stream",
     "text": [
      "hello (1, 3, 5)\n"
     ]
    }
   ],
   "source": [
    "def fa(a):\n",
    "    print('hello',a)\n",
    "args = (1,3,5)\n",
    "fa(args)"
   ]
  },
  {
   "cell_type": "code",
   "execution_count": 137,
   "metadata": {},
   "outputs": [
    {
     "name": "stdout",
     "output_type": "stream",
     "text": [
      "hello (1, 2, 3)\n"
     ]
    }
   ],
   "source": [
    "def fa(*a):\n",
    "    print('hello',a)\n",
    "args = ()\n",
    "fa(1,2,3)"
   ]
  },
  {
   "cell_type": "code",
   "execution_count": 142,
   "metadata": {},
   "outputs": [
    {
     "name": "stdout",
     "output_type": "stream",
     "text": [
      "hello {'x': 1, 'y': 3}\n"
     ]
    }
   ],
   "source": [
    "def fa (**a):\n",
    "    print('hello',a)\n",
    "z = {'x':1,'y':3}\n",
    "fa(**z)"
   ]
  },
  {
   "cell_type": "code",
   "execution_count": 145,
   "metadata": {},
   "outputs": [
    {
     "name": "stdout",
     "output_type": "stream",
     "text": [
      "hello {'x': 1, 'y': 2}\n"
     ]
    }
   ],
   "source": [
    "def fa (**a):\n",
    "    print('hello',a)\n",
    "\n",
    "z = {}\n",
    "\n",
    "fa(x = 1,y = 2)"
   ]
  },
  {
   "cell_type": "code",
   "execution_count": 149,
   "metadata": {},
   "outputs": [
    {
     "name": "stdout",
     "output_type": "stream",
     "text": [
      "hello (1, 2) {'t': 2}\n"
     ]
    }
   ],
   "source": [
    "def fa(*args,**kwargs):\n",
    "    print('hello',args,kwargs)\n",
    "fa(1,2,t = 2)"
   ]
  },
  {
   "cell_type": "code",
   "execution_count": 151,
   "metadata": {},
   "outputs": [
    {
     "name": "stdout",
     "output_type": "stream",
     "text": [
      "fa\n",
      "fa\n",
      "fa\n",
      "fa\n",
      "fa\n",
      "fa\n",
      "fa\n",
      "fa\n",
      "fa\n",
      "fa\n",
      "fa\n",
      "fa\n",
      "fa\n",
      "fa\n",
      "fa\n",
      "fa\n",
      "fa\n",
      "fa\n",
      "fa\n",
      "fa\n",
      "fa\n",
      "fa\n",
      "fa\n",
      "fa\n",
      "fa\n",
      "fa\n",
      "fa\n",
      "fa\n",
      "fa\n",
      "fa\n",
      "fa\n",
      "fa\n",
      "fa\n",
      "fa\n",
      "fa\n",
      "fa\n",
      "fa\n",
      "fa\n",
      "fa\n",
      "fa\n",
      "fa\n",
      "fa\n",
      "fa\n",
      "fa\n",
      "fa\n",
      "fa\n",
      "fa\n",
      "fa\n",
      "fa\n",
      "fa\n",
      "fa\n",
      "fa\n",
      "fa\n",
      "fa\n",
      "fa\n",
      "fa\n",
      "fa\n",
      "fa\n",
      "fa\n",
      "fa\n",
      "fa\n",
      "fa\n",
      "fa\n",
      "fa\n",
      "fa\n",
      "fa\n",
      "fa\n",
      "fa\n",
      "fa\n",
      "fa\n",
      "fa\n",
      "fa\n",
      "fa\n",
      "fa\n",
      "fa\n",
      "fa\n",
      "fa\n",
      "fa\n",
      "fa\n",
      "fa\n",
      "fa\n",
      "fa\n",
      "fa\n",
      "fa\n",
      "fa\n",
      "fa\n",
      "fa\n",
      "fa\n",
      "fa\n",
      "fa\n",
      "fa\n",
      "fa\n",
      "fa\n",
      "fa\n",
      "fa\n",
      "fa\n",
      "fa\n",
      "fa\n",
      "fa\n",
      "fa\n",
      "fa\n",
      "fa\n",
      "fa\n",
      "fa\n",
      "fa\n",
      "fa\n",
      "fa\n",
      "fa\n",
      "fa\n",
      "fa\n",
      "fa\n",
      "fa\n",
      "fa\n",
      "fa\n",
      "fa\n",
      "fa\n",
      "fa\n",
      "fa\n",
      "fa\n",
      "fa\n",
      "fa\n",
      "fa\n",
      "fa\n",
      "fa\n",
      "fa\n",
      "fa\n",
      "fa\n",
      "fa\n",
      "fa\n",
      "fa\n",
      "fa\n",
      "fa\n",
      "fa\n",
      "fa\n",
      "fa\n",
      "fa\n",
      "fa\n",
      "fa\n",
      "fa\n",
      "fa\n",
      "fa\n",
      "fa\n",
      "fa\n",
      "fa\n",
      "fa\n",
      "fa\n",
      "fa\n",
      "fa\n",
      "fa\n",
      "fa\n",
      "fa\n",
      "fa\n",
      "fa\n",
      "fa\n",
      "fa\n",
      "fa\n",
      "fa\n",
      "fa\n",
      "fa\n",
      "fa\n",
      "fa\n",
      "fa\n",
      "fa\n",
      "fa\n",
      "fa\n",
      "fa\n",
      "fa\n",
      "fa\n",
      "fa\n",
      "fa\n",
      "fa\n",
      "fa\n",
      "fa\n",
      "fa\n",
      "fa\n",
      "fa\n",
      "fa\n",
      "fa\n",
      "fa\n",
      "fa\n",
      "fa\n",
      "fa\n",
      "fa\n",
      "fa\n",
      "fa\n",
      "fa\n",
      "fa\n",
      "fa\n",
      "fa\n",
      "fa\n",
      "fa\n",
      "fa\n",
      "fa\n",
      "fa\n",
      "fa\n",
      "fa\n",
      "fa\n",
      "fa\n",
      "fa\n",
      "fa\n",
      "fa\n",
      "fa\n",
      "fa\n",
      "fa\n",
      "fa\n",
      "fa\n",
      "fa\n",
      "fa\n",
      "fa\n",
      "fa\n",
      "fa\n",
      "fa\n",
      "fa\n",
      "fa\n",
      "fa\n",
      "fa\n",
      "fa\n",
      "fa\n",
      "fa\n",
      "fa\n",
      "fa\n",
      "fa\n",
      "fa\n",
      "fa\n",
      "fa\n",
      "fa\n",
      "fa\n",
      "fa\n",
      "fa\n",
      "fa\n",
      "fa\n",
      "fa\n",
      "fa\n",
      "fa\n",
      "fa\n",
      "fa\n",
      "fa\n",
      "fa\n",
      "fa\n",
      "fa\n",
      "fa\n",
      "fa\n",
      "fa\n",
      "fa\n",
      "fa\n",
      "fa\n",
      "fa\n",
      "fa\n",
      "fa\n",
      "fa\n",
      "fa\n",
      "fa\n",
      "fa\n",
      "fa\n",
      "fa\n",
      "fa\n",
      "fa\n",
      "fa\n",
      "fa\n",
      "fa\n",
      "fa\n",
      "fa\n",
      "fa\n",
      "fa\n",
      "fa\n",
      "fa\n",
      "fa\n",
      "fa\n",
      "fa\n",
      "fa\n",
      "fa\n",
      "fa\n",
      "fa\n",
      "fa\n",
      "fa\n",
      "fa\n",
      "fa\n",
      "fa\n",
      "fa\n",
      "fa\n",
      "fa\n",
      "fa\n",
      "fa\n",
      "fa\n",
      "fa\n",
      "fa\n",
      "fa\n",
      "fa\n",
      "fa\n",
      "fa\n",
      "fa\n",
      "fa\n",
      "fa\n",
      "fa\n",
      "fa\n",
      "fa\n",
      "fa\n",
      "fa\n",
      "fa\n",
      "fa\n",
      "fa\n",
      "fa\n",
      "fa\n",
      "fa\n",
      "fa\n",
      "fa\n",
      "fa\n",
      "fa\n",
      "fa\n",
      "fa\n",
      "fa\n",
      "fa\n",
      "fa\n",
      "fa\n",
      "fa\n",
      "fa\n",
      "fa\n",
      "fa\n",
      "fa\n",
      "fa\n",
      "fa\n",
      "fa\n",
      "fa\n",
      "fa\n",
      "fa\n",
      "fa\n",
      "fa\n",
      "fa\n",
      "fa\n",
      "fa\n",
      "fa\n",
      "fa\n",
      "fa\n",
      "fa\n",
      "fa\n",
      "fa\n",
      "fa\n",
      "fa\n",
      "fa\n",
      "fa\n",
      "fa\n",
      "fa\n",
      "fa\n",
      "fa\n",
      "fa\n",
      "fa\n",
      "fa\n",
      "fa\n",
      "fa\n",
      "fa\n",
      "fa\n",
      "fa\n",
      "fa\n",
      "fa\n",
      "fa\n",
      "fa\n",
      "fa\n",
      "fa\n",
      "fa\n",
      "fa\n",
      "fa\n",
      "fa\n",
      "fa\n",
      "fa\n",
      "fa\n",
      "fa\n",
      "fa\n",
      "fa\n",
      "fa\n",
      "fa\n",
      "fa\n",
      "fa\n",
      "fa\n",
      "fa\n",
      "fa\n",
      "fa\n",
      "fa\n",
      "fa\n",
      "fa\n",
      "fa\n",
      "fa\n",
      "fa\n",
      "fa\n",
      "fa\n",
      "fa\n",
      "fa\n",
      "fa\n",
      "fa\n",
      "fa\n",
      "fa\n",
      "fa\n",
      "fa\n",
      "fa\n",
      "fa\n",
      "fa\n",
      "fa\n",
      "fa\n",
      "fa\n",
      "fa\n",
      "fa\n",
      "fa\n",
      "fa\n",
      "fa\n",
      "fa\n",
      "fa\n",
      "fa\n",
      "fa\n",
      "fa\n",
      "fa\n",
      "fa\n",
      "fa\n",
      "fa\n",
      "fa\n",
      "fa\n",
      "fa\n",
      "fa\n",
      "fa\n",
      "fa\n",
      "fa\n",
      "fa\n",
      "fa\n",
      "fa\n",
      "fa\n",
      "fa\n",
      "fa\n",
      "fa\n",
      "fa\n",
      "fa\n",
      "fa\n",
      "fa\n",
      "fa\n",
      "fa\n",
      "fa\n",
      "fa\n",
      "fa\n",
      "fa\n",
      "fa\n",
      "fa\n",
      "fa\n",
      "fa\n",
      "fa\n",
      "fa\n",
      "fa\n",
      "fa\n",
      "fa\n",
      "fa\n",
      "fa\n",
      "fa\n",
      "fa\n",
      "fa\n",
      "fa\n",
      "fa\n",
      "fa\n",
      "fa\n",
      "fa\n",
      "fa\n",
      "fa\n",
      "fa\n",
      "fa\n",
      "fa\n",
      "fa\n",
      "fa\n",
      "fa\n",
      "fa\n",
      "fa\n",
      "fa\n",
      "fa\n",
      "fa\n",
      "fa\n",
      "fa\n",
      "fa\n",
      "fa\n",
      "fa\n",
      "fa\n",
      "fa\n",
      "fa\n",
      "fa\n",
      "fa\n",
      "fa\n",
      "fa\n",
      "fa\n",
      "fa\n",
      "fa\n",
      "fa\n",
      "fa\n",
      "fa\n",
      "fa\n",
      "fa\n",
      "fa\n",
      "fa\n",
      "fa\n",
      "fa\n",
      "fa\n",
      "fa\n",
      "fa\n",
      "fa\n",
      "fa\n",
      "fa\n",
      "fa\n",
      "fa\n",
      "fa\n",
      "fa\n",
      "fa\n",
      "fa\n",
      "fa\n",
      "fa\n",
      "fa\n",
      "fa\n",
      "fa\n",
      "fa\n",
      "fa\n",
      "fa\n",
      "fa\n",
      "fa\n",
      "fa\n",
      "fa\n",
      "fa\n",
      "fa\n",
      "fa\n",
      "fa\n",
      "fa\n",
      "fa\n",
      "fa\n",
      "fa\n",
      "fa\n",
      "fa\n",
      "fa\n",
      "fa\n",
      "fa\n",
      "fa\n",
      "fa\n",
      "fa\n",
      "fa\n",
      "fa\n",
      "fa\n",
      "fa\n",
      "fa\n",
      "fa\n",
      "fa\n",
      "fa\n",
      "fa\n",
      "fa\n",
      "fa\n",
      "fa\n",
      "fa\n",
      "fa\n",
      "fa\n",
      "fa\n",
      "fa\n",
      "fa\n",
      "fa\n",
      "fa\n",
      "fa\n",
      "fa\n",
      "fa\n",
      "fa\n",
      "fa\n",
      "fa\n",
      "fa\n",
      "fa\n",
      "fa\n",
      "fa\n",
      "fa\n",
      "fa\n",
      "fa\n",
      "fa\n",
      "fa\n",
      "fa\n",
      "fa\n",
      "fa\n",
      "fa\n",
      "fa\n",
      "fa\n",
      "fa\n",
      "fa\n",
      "fa\n",
      "fa\n",
      "fa\n",
      "fa\n",
      "fa\n",
      "fa\n",
      "fa\n",
      "fa\n",
      "fa\n",
      "fa\n",
      "fa\n",
      "fa\n",
      "fa\n",
      "fa\n",
      "fa\n",
      "fa\n",
      "fa\n",
      "fa\n",
      "fa\n",
      "fa\n",
      "fa\n",
      "fa\n",
      "fa\n",
      "fa\n",
      "fa\n",
      "fa\n",
      "fa\n",
      "fa\n",
      "fa\n",
      "fa\n",
      "fa\n",
      "fa\n",
      "fa\n",
      "fa\n",
      "fa\n",
      "fa\n",
      "fa\n",
      "fa\n",
      "fa\n",
      "fa\n",
      "fa\n",
      "fa\n",
      "fa\n",
      "fa\n",
      "fa\n",
      "fa\n",
      "fa\n",
      "fa\n",
      "fa\n",
      "fa\n",
      "fa\n",
      "fa\n",
      "fa\n",
      "fa\n",
      "fa\n",
      "fa\n",
      "fa\n",
      "fa\n",
      "fa\n",
      "fa\n",
      "fa\n",
      "fa\n",
      "fa\n",
      "fa\n",
      "fa\n",
      "fa\n",
      "fa\n",
      "fa\n",
      "fa\n",
      "fa\n",
      "fa\n",
      "fa\n",
      "fa\n",
      "fa\n",
      "fa\n",
      "fa\n",
      "fa\n",
      "fa\n",
      "fa\n",
      "fa\n",
      "fa\n",
      "fa\n",
      "fa\n",
      "fa\n",
      "fa\n",
      "fa\n",
      "fa\n",
      "fa\n",
      "fa\n",
      "fa\n",
      "fa\n",
      "fa\n",
      "fa\n",
      "fa\n",
      "fa\n",
      "fa\n",
      "fa\n",
      "fa\n",
      "fa\n",
      "fa\n",
      "fa\n",
      "fa\n",
      "fa\n",
      "fa\n",
      "fa\n",
      "fa\n",
      "fa\n",
      "fa\n",
      "fa\n",
      "fa\n",
      "fa\n",
      "fa\n",
      "fa\n",
      "fa\n",
      "fa\n",
      "fa\n",
      "fa\n",
      "fa\n",
      "fa\n",
      "fa\n",
      "fa\n",
      "fa\n",
      "fa\n",
      "fa\n",
      "fa\n",
      "fa\n",
      "fa\n",
      "fa\n",
      "fa\n",
      "fa\n",
      "fa\n",
      "fa\n",
      "fa\n",
      "fa\n",
      "fa\n",
      "fa\n",
      "fa\n",
      "fa\n",
      "fa\n",
      "fa\n",
      "fa\n",
      "fa\n",
      "fa\n",
      "fa\n",
      "fa\n",
      "fa\n",
      "fa\n",
      "fa\n",
      "fa\n",
      "fa\n",
      "fa\n",
      "fa\n",
      "fa\n",
      "fa\n",
      "fa\n",
      "fa\n",
      "fa\n",
      "fa\n",
      "fa\n",
      "fa\n",
      "fa\n",
      "fa\n",
      "fa\n",
      "fa\n",
      "fa\n",
      "fa\n",
      "fa\n",
      "fa\n",
      "fa\n",
      "fa\n",
      "fa\n",
      "fa\n",
      "fa\n",
      "fa\n",
      "fa\n",
      "fa\n",
      "fa\n",
      "fa\n",
      "fa\n",
      "fa\n",
      "fa\n",
      "fa\n",
      "fa\n",
      "fa\n",
      "fa\n",
      "fa\n",
      "fa\n",
      "fa\n",
      "fa\n",
      "fa\n",
      "fa\n",
      "fa\n",
      "fa\n",
      "fa\n",
      "fa\n",
      "fa\n",
      "fa\n",
      "fa\n",
      "fa\n",
      "fa\n",
      "fa\n",
      "fa\n",
      "fa\n",
      "fa\n",
      "fa\n",
      "fa\n",
      "fa\n",
      "fa\n",
      "fa\n",
      "fa\n",
      "fa\n",
      "fa\n",
      "fa\n",
      "fa\n",
      "fa\n",
      "fa\n",
      "fa\n",
      "fa\n",
      "fa\n",
      "fa\n",
      "fa\n",
      "fa\n",
      "fa\n",
      "fa\n",
      "fa\n",
      "fa\n",
      "fa\n",
      "fa\n",
      "fa\n",
      "fa\n",
      "fa\n",
      "fa\n",
      "fa\n",
      "fa\n",
      "fa\n",
      "fa\n",
      "fa\n",
      "fa\n",
      "fa\n",
      "fa\n",
      "fa\n",
      "fa\n",
      "fa\n",
      "fa\n",
      "fa\n",
      "fa\n",
      "fa\n",
      "fa\n",
      "fa\n",
      "fa\n",
      "fa\n",
      "fa\n",
      "fa\n",
      "fa\n",
      "fa\n",
      "fa\n",
      "fa\n",
      "fa\n",
      "fa\n",
      "fa\n",
      "fa\n",
      "fa\n",
      "fa\n",
      "fa\n",
      "fa\n",
      "fa\n",
      "fa\n",
      "fa\n",
      "fa\n",
      "fa\n",
      "fa\n",
      "fa\n",
      "fa\n",
      "fa\n",
      "fa\n",
      "fa\n",
      "fa\n",
      "fa\n",
      "fa\n",
      "fa\n",
      "fa\n",
      "fa\n",
      "fa\n",
      "fa\n",
      "fa\n",
      "fa\n",
      "fa\n",
      "fa\n",
      "fa\n",
      "fa\n",
      "fa\n",
      "fa\n",
      "fa\n",
      "fa\n",
      "fa\n",
      "fa\n",
      "fa\n",
      "fa\n",
      "fa\n",
      "fa\n",
      "fa\n",
      "fa\n",
      "fa\n",
      "fa\n",
      "fa\n",
      "fa\n",
      "fa\n",
      "fa\n",
      "fa\n",
      "fa\n",
      "fa\n",
      "fa\n",
      "fa\n",
      "fa\n",
      "fa\n",
      "fa\n",
      "fa\n",
      "fa\n",
      "fa\n",
      "fa\n",
      "fa\n",
      "fa\n",
      "fa\n",
      "fa\n",
      "fa\n",
      "fa\n",
      "fa\n",
      "fa\n",
      "fa\n",
      "fa\n",
      "fa\n",
      "fa\n",
      "fa\n",
      "fa\n",
      "fa\n",
      "fa\n",
      "fa\n",
      "fa\n",
      "fa\n",
      "fa\n",
      "fa\n",
      "fa\n",
      "fa\n",
      "fa\n",
      "fa\n",
      "fa\n",
      "fa\n",
      "fa\n",
      "fa\n",
      "fa\n",
      "fa\n",
      "fa\n",
      "fa\n",
      "fa\n",
      "fa\n",
      "fa\n",
      "fa\n",
      "fa\n",
      "fa\n",
      "fa\n",
      "fa\n",
      "fa\n",
      "fa\n",
      "fa\n",
      "fa\n",
      "fa\n",
      "fa\n",
      "fa\n",
      "fa\n",
      "fa\n",
      "fa\n",
      "fa\n",
      "fa\n",
      "fa\n",
      "fa\n",
      "fa\n",
      "fa\n",
      "fa\n",
      "fa\n",
      "fa\n",
      "fa\n",
      "fa\n",
      "fa\n",
      "fa\n",
      "fa\n",
      "fa\n",
      "fa\n",
      "fa\n",
      "fa\n",
      "fa\n"
     ]
    },
    {
     "ename": "RecursionError",
     "evalue": "maximum recursion depth exceeded in comparison",
     "output_type": "error",
     "traceback": [
      "\u001b[0;31m---------------------------------------------------------------------------\u001b[0m",
      "\u001b[0;31mRecursionError\u001b[0m                            Traceback (most recent call last)",
      "\u001b[0;32m<ipython-input-151-86dc198eb108>\u001b[0m in \u001b[0;36m<module>\u001b[0;34m()\u001b[0m\n\u001b[1;32m      2\u001b[0m     \u001b[0mprint\u001b[0m\u001b[0;34m(\u001b[0m\u001b[0;34m'fa'\u001b[0m\u001b[0;34m)\u001b[0m\u001b[0;34m\u001b[0m\u001b[0m\n\u001b[1;32m      3\u001b[0m     \u001b[0mfa\u001b[0m\u001b[0;34m(\u001b[0m\u001b[0;34m)\u001b[0m\u001b[0;34m\u001b[0m\u001b[0m\n\u001b[0;32m----> 4\u001b[0;31m \u001b[0mfa\u001b[0m\u001b[0;34m(\u001b[0m\u001b[0;34m)\u001b[0m\u001b[0;34m\u001b[0m\u001b[0m\n\u001b[0m",
      "\u001b[0;32m<ipython-input-151-86dc198eb108>\u001b[0m in \u001b[0;36mfa\u001b[0;34m()\u001b[0m\n\u001b[1;32m      1\u001b[0m \u001b[0;32mdef\u001b[0m \u001b[0mfa\u001b[0m\u001b[0;34m(\u001b[0m\u001b[0;34m)\u001b[0m\u001b[0;34m:\u001b[0m\u001b[0;34m\u001b[0m\u001b[0m\n\u001b[1;32m      2\u001b[0m     \u001b[0mprint\u001b[0m\u001b[0;34m(\u001b[0m\u001b[0;34m'fa'\u001b[0m\u001b[0;34m)\u001b[0m\u001b[0;34m\u001b[0m\u001b[0m\n\u001b[0;32m----> 3\u001b[0;31m     \u001b[0mfa\u001b[0m\u001b[0;34m(\u001b[0m\u001b[0;34m)\u001b[0m\u001b[0;34m\u001b[0m\u001b[0m\n\u001b[0m\u001b[1;32m      4\u001b[0m \u001b[0mfa\u001b[0m\u001b[0;34m(\u001b[0m\u001b[0;34m)\u001b[0m\u001b[0;34m\u001b[0m\u001b[0m\n",
      "... last 1 frames repeated, from the frame below ...\n",
      "\u001b[0;32m<ipython-input-151-86dc198eb108>\u001b[0m in \u001b[0;36mfa\u001b[0;34m()\u001b[0m\n\u001b[1;32m      1\u001b[0m \u001b[0;32mdef\u001b[0m \u001b[0mfa\u001b[0m\u001b[0;34m(\u001b[0m\u001b[0;34m)\u001b[0m\u001b[0;34m:\u001b[0m\u001b[0;34m\u001b[0m\u001b[0m\n\u001b[1;32m      2\u001b[0m     \u001b[0mprint\u001b[0m\u001b[0;34m(\u001b[0m\u001b[0;34m'fa'\u001b[0m\u001b[0;34m)\u001b[0m\u001b[0;34m\u001b[0m\u001b[0m\n\u001b[0;32m----> 3\u001b[0;31m     \u001b[0mfa\u001b[0m\u001b[0;34m(\u001b[0m\u001b[0;34m)\u001b[0m\u001b[0;34m\u001b[0m\u001b[0m\n\u001b[0m\u001b[1;32m      4\u001b[0m \u001b[0mfa\u001b[0m\u001b[0;34m(\u001b[0m\u001b[0;34m)\u001b[0m\u001b[0;34m\u001b[0m\u001b[0m\n",
      "\u001b[0;31mRecursionError\u001b[0m: maximum recursion depth exceeded in comparison"
     ]
    }
   ],
   "source": [
    "def fa():\n",
    "    print('fa')\n",
    "    fa()\n",
    "fa()"
   ]
  },
  {
   "cell_type": "code",
   "execution_count": 153,
   "metadata": {},
   "outputs": [
    {
     "name": "stdout",
     "output_type": "stream",
     "text": [
      "fa 20\n",
      "demo 10\n"
     ]
    }
   ],
   "source": [
    "x = 10\n",
    "\n",
    "def fa():\n",
    "    x = 20\n",
    "    print(\"fa\",x)\n",
    "fa()\n",
    "print('demo',x)"
   ]
  },
  {
   "cell_type": "code",
   "execution_count": 159,
   "metadata": {},
   "outputs": [
    {
     "name": "stdout",
     "output_type": "stream",
     "text": [
      "fb 30\n",
      "fa 30\n"
     ]
    }
   ],
   "source": [
    "def fa():\n",
    "    x = 20\n",
    "    def fb():\n",
    "        \n",
    "        nonlocal x\n",
    "        \n",
    "        x = 30\n",
    "        \n",
    "        print('fb',x)\n",
    "    fb()\n",
    "    print('fa',x)\n",
    "    \n",
    "fa()\n"
   ]
  },
  {
   "cell_type": "code",
   "execution_count": 164,
   "metadata": {},
   "outputs": [
    {
     "ename": "SyntaxError",
     "evalue": "invalid syntax (<ipython-input-164-693f415d7aa2>, line 3)",
     "output_type": "error",
     "traceback": [
      "\u001b[0;36m  File \u001b[0;32m\"<ipython-input-164-693f415d7aa2>\"\u001b[0;36m, line \u001b[0;32m3\u001b[0m\n\u001b[0;31m    from mafuncs importx\u001b[0m\n\u001b[0m                       ^\u001b[0m\n\u001b[0;31mSyntaxError\u001b[0m\u001b[0;31m:\u001b[0m invalid syntax\n"
     ]
    }
   ],
   "source": [
    "x = 20\n",
    "\n",
    "from mafuncs importx\n",
    "\n",
    "fa()\n",
    "fb()\n"
   ]
  },
  {
   "cell_type": "code",
   "execution_count": 214,
   "metadata": {
    "scrolled": true
   },
   "outputs": [
    {
     "name": "stdout",
     "output_type": "stream",
     "text": [
      "fa\n",
      "business\n"
     ]
    }
   ],
   "source": [
    "def fa(func):\n",
    "    print('fa')\n",
    "    v = 5\n",
    "    def helper():\n",
    "        if v >0:\n",
    "            return func()\n",
    "        else:\n",
    "            print('invalid')\n",
    "    return helper\n",
    "# @fa\n",
    "helper = fa(business)\n",
    "def business():\n",
    "    print('business')\n",
    "    \n",
    "business()"
   ]
  },
  {
   "cell_type": "code",
   "execution_count": 224,
   "metadata": {},
   "outputs": [
    {
     "name": "stdout",
     "output_type": "stream",
     "text": [
      "no\n"
     ]
    },
    {
     "data": {
      "text/plain": [
       "1"
      ]
     },
     "execution_count": 224,
     "metadata": {},
     "output_type": "execute_result"
    }
   ],
   "source": [
    "def fa (func):\n",
    "    \n",
    "    buf = {}\n",
    "    \n",
    "    def helper(*args, **kwargs):\n",
    "        v = args[0]\n",
    "        if v not in buf:\n",
    "            print('no')\n",
    "            buf[v] = func(*args, **kwargs)\n",
    "        else:\n",
    "            print('yes')\n",
    "        return buf[v]\n",
    "    return helper\n",
    "@fa\n",
    "def business(n):\n",
    "    a, b = 0 , 1\n",
    "    \n",
    "    for _ in range(n):\n",
    "        a,b = b, a+b\n",
    "    return a\n",
    "    print('business')\n",
    "helper = fa(business)\n",
    "business(1)"
   ]
  },
  {
   "cell_type": "code",
   "execution_count": 233,
   "metadata": {},
   "outputs": [],
   "source": [
    "class A:\n",
    "    \n",
    "    def m(self,a,b):\n",
    "        print('m method', a, b)\n",
    "        \n",
    "        obj = A()\n",
    "        \n",
    "        obj.m(5,8)\n",
    "        \n",
    "        print(a) "
   ]
  },
  {
   "cell_type": "code",
   "execution_count": 234,
   "metadata": {},
   "outputs": [],
   "source": [
    "class A:\n",
    "    def __init__(self):\n",
    "        print('init')\n",
    "    def __del__(self):\n",
    "        print('del')\n",
    "        \n",
    "        "
   ]
  },
  {
   "cell_type": "code",
   "execution_count": 235,
   "metadata": {},
   "outputs": [
    {
     "ename": "SyntaxError",
     "evalue": "invalid syntax (<ipython-input-235-1b5cfc9e7ce5>, line 5)",
     "output_type": "error",
     "traceback": [
      "\u001b[0;36m  File \u001b[0;32m\"<ipython-input-235-1b5cfc9e7ce5>\"\u001b[0;36m, line \u001b[0;32m5\u001b[0m\n\u001b[0;31m    dwf getAbc(self):\u001b[0m\n\u001b[0m             ^\u001b[0m\n\u001b[0;31mSyntaxError\u001b[0m\u001b[0;31m:\u001b[0m invalid syntax\n"
     ]
    }
   ],
   "source": [
    "class A:\n",
    "    def __init__ (self):\n",
    "        self.__xyz = 10\n",
    "        \n",
    "    dwf getAbc(self):\n",
    "        print('')"
   ]
  },
  {
   "cell_type": "code",
   "execution_count": 239,
   "metadata": {},
   "outputs": [
    {
     "name": "stdout",
     "output_type": "stream",
     "text": [
      "[5, 10, 15, 20, 25]\n"
     ]
    }
   ],
   "source": [
    "a = [1,2,3,4,5]\n",
    "\n",
    "r = list (map(lambda x: x*5,a))\n",
    "print(r)"
   ]
  },
  {
   "cell_type": "code",
   "execution_count": 241,
   "metadata": {},
   "outputs": [
    {
     "name": "stdout",
     "output_type": "stream",
     "text": [
      "12\n"
     ]
    }
   ],
   "source": [
    "from functools import reduce\n",
    "\n",
    "n = [31,56,12,73]\n",
    "\n",
    "max = reduce(lambda x,y: x if x <y else y,n)\n",
    "print(max)"
   ]
  }
 ],
 "metadata": {
  "kernelspec": {
   "display_name": "Python 3",
   "language": "python",
   "name": "python3"
  },
  "language_info": {
   "codemirror_mode": {
    "name": "ipython",
    "version": 3
   },
   "file_extension": ".py",
   "mimetype": "text/x-python",
   "name": "python",
   "nbconvert_exporter": "python",
   "pygments_lexer": "ipython3",
   "version": "3.6.1"
  }
 },
 "nbformat": 4,
 "nbformat_minor": 2
}
