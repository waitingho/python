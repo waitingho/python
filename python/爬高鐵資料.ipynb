{
 "cells": [
  {
   "cell_type": "markdown",
   "metadata": {
    "slideshow": {
     "slide_type": "slide"
    }
   },
   "source": [
    "<br>\n",
    "<font size = '7' color = 'green'>爬蟲教學</font>\n",
    "<br>\n",
    "<br>\n",
    "<br>\n",
    "<font size = '6'>項目</font>\n",
    "<br><br><br><font size = '5'>\n",
    "- 爬蟲經驗分享<p><p>\n",
    "- 爬蟲所需Python套件<p><p>\n",
    "- 簡易爬蟲實作<p><p>\n",
    "- 高鐵網站爬取範例<p><p>\n",
    "- 商品價格比較搭配搜尋引擎<p><p></font><br><br>"
   ]
  },
  {
   "cell_type": "markdown",
   "metadata": {
    "slideshow": {
     "slide_type": "subslide"
    }
   },
   "source": [
    "<br>\n",
    "<br>\n",
    "<br>\n",
    "<br>\n",
    "<br>\n",
    "<br>\n",
    "<br>\n",
    "<font size = '7'>爬蟲經驗分享</font>\n",
    "<br><br><br><font size = '5'>\n",
    "- 為了資料分析，爬取氣象局網站 http://www.cwb.gov.tw/V7/climate/dailyPrecipitation/dP.htm<p>\n",
    "<p><p>\n",
    "- 柯文哲競選時，投標輿情分析專案，爬取新聞資料<p><p>\n",
    "- 山姆哥專案(Sam #613)，開創爬蟲新境界<p><p></font>"
   ]
  },
  {
   "cell_type": "markdown",
   "metadata": {},
   "source": [
    "<br>\n",
    "<br>\n",
    "<br>\n",
    "<br>\n",
    "<br>\n",
    "<br>\n",
    "<br>\n",
    "<font size = '7'>爬蟲所需的Python套件</font>\n",
    "<br><br><br><font size = '5', color = 'red'>套件安裝方法 : pip install package_name</font>\n",
    "<br><br><br><font size = '5'>\n",
    "- requests<p><p>\n",
    "- beautifulsoup<p><p>\n",
    "- urllib<p><p>\n",
    "<br><font size = '5'>幸運的是，使用 Anaconda ，這些套件預設都會安裝</font>"
   ]
  },
  {
   "cell_type": "markdown",
   "metadata": {},
   "source": [
    "<br>\n",
    "<br>\n",
    "<br>\n",
    "<br>\n",
    "<br>\n",
    "<br>\n",
    "<br>\n",
    "<br>\n",
    "<br>\n",
    "<font size = '7'>簡易爬蟲實作</font>\n",
    "<br><br><br><font size = '5'>用大陸天貓而非</font><font size = '5', color='red'> sam's ecshop </font>當例子<br><br> \n",
    "<font size = '3'>http://ecshop.payeasy.com.tw/ECShop/Product/ProductDetail/4832764?type=SELECTPRODUCTS</font>\n",
    "<br><br><br><font size = '5'>\n",
    "- 人工瀏覽一次網站<p><p>\n",
    "- 開啟 Developer Tools 觀察<p><p>\n",
    "- 開始撰寫程式<p><p>"
   ]
  },
  {
   "cell_type": "code",
   "execution_count": 19,
   "metadata": {
    "collapsed": true
   },
   "outputs": [],
   "source": [
    "import requests\n",
    "from bs4 import BeautifulSoup"
   ]
  },
  {
   "cell_type": "code",
   "execution_count": 37,
   "metadata": {
    "collapsed": true
   },
   "outputs": [],
   "source": [
    "tmall = requests.get('https://content.tmall.com/wow/pegasus/subject/0/1044264726/6109714?spm=875.7931836/A.2016077.4.HQ9ecz&sellerId=1044264726&pvid=46e32797-5c5a-4b94-b489-471b6073e8ed&pos=3&actId=7779395&acm=09051.1003.1.1105274&id=6109714&scm=1007.13306.32861.100200300000000&gccpm=7779395.102.2.subject-1001')"
   ]
  },
  {
   "cell_type": "code",
   "execution_count": 40,
   "metadata": {
    "collapsed": true
   },
   "outputs": [],
   "source": [
    "tmall_html = BeautifulSoup(tmall.text, 'lxml')"
   ]
  },
  {
   "cell_type": "code",
   "execution_count": 65,
   "metadata": {
    "collapsed": true
   },
   "outputs": [],
   "source": [
    "pro_info = list()\n",
    "for i in tmall_html.find_all('div', {'class':'content-wrap'}):\n",
    "    for product in i.find_all('div', {'class':'title'}):\n",
    "        pro_info.append(product.text)\n",
    "    for price in i.find_all('div', {'class':'price'}):\n",
    "        price_correct = price.text.strip('\\n¥').strip('\\n')\n",
    "        pro_info.append(price_correct.split('\\n¥')[0])"
   ]
  },
  {
   "cell_type": "markdown",
   "metadata": {},
   "source": [
    "<br>\n",
    "<br>\n",
    "<br>\n",
    "<br>\n",
    "<br>\n",
    "<br>\n",
    "<br>\n",
    "<br>\n",
    "<br>\n",
    "<font size = '7'>高鐵班次爬取</font>\n",
    "<br><br><br><font size = '3'>https://www.thsrc.com.tw</font>\n",
    "<br><br><br><font size = '5'>\n",
    "- 人工瀏覽一次網站<p><p>\n",
    "- 開啟 Developer Tools 觀察<p><p>\n",
    "- 開始撰寫程式<p><p>"
   ]
  },
  {
   "cell_type": "code",
   "execution_count": 23,
   "metadata": {
    "collapsed": true,
    "nbpresent": {
     "id": "13fad8dd-3a52-459e-9d8b-c49f4776e9ee"
    }
   },
   "outputs": [],
   "source": [
    "import requests\n",
    "import pandas as pd\n",
    "import html5lib\n",
    "import timeit\n",
    "from bs4 import BeautifulSoup\n",
    "\n",
    "# url = 'https://www.thsrc.com.tw/tw/TimeTable/SearchResult'\n",
    "url = 'https://www.thsrc.com.tw/tw/TimeTable/SearchResult'\n",
    "\n",
    "parameter = {\n",
    "    'StartStation':'2f940836-cedc-41ef-8e28-c2336ac8fe68',\n",
    "    'EndStation':'f2519629-5973-4d08-913b-479cce78a356',\n",
    "    'SearchDate':'2016/12/29',\n",
    "    'SearchTime':'09:00',\n",
    "    'SearchWay':'DepartureInMandarin'\n",
    "}\n",
    "\n",
    "# result = requests.post(url=url, data=data)\n",
    "# result = requests.get(url2)\n",
    "# parse = BeautifulSoup(requests.post(url=url, data=data).text, 'lxml')\n",
    "html_result = BeautifulSoup(requests.post(url=url, data=parameter).text, 'lxml')"
   ]
  },
  {
   "cell_type": "markdown",
   "metadata": {
    "nbpresent": {
     "id": "74be2b27-6d59-414b-ae4d-280bbc55fbaf"
    },
    "slideshow": {
     "slide_type": "slide"
    }
   },
   "source": [
    "html_result.findAll"
   ]
  },
  {
   "cell_type": "code",
   "execution_count": 10,
   "metadata": {
    "collapsed": true,
    "nbpresent": {
     "id": "386d7b51-e075-463c-9567-62cbf3780402"
    }
   },
   "outputs": [],
   "source": [
    "station = {\n",
    " '南港':'2f940836-cedc-41ef-8e28-c2336ac8fe68',\n",
    " '台北':'977abb69-413a-4ccf-a109-0272c24fd490',\n",
    " '板橋':'e6e26e66-7dc1-458f-b2f3-71ce65fdc95f',\n",
    " '桃園':'fbd828d8-b1da-4b06-a3bd-680cdca4d2cd',\n",
    " '新竹':'a7a04c89-900b-4798-95a3-c01c455622f4',\n",
    " '苗栗':'e8fc2123-2aaf-46ff-ad79-51d4002a1ef3',\n",
    " '台中':'3301e395-46b8-47aa-aa37-139e15708779',\n",
    " '彰化':'38b8c40b-aef0-4d66-b257-da96ec51620e',\n",
    " '雲林':'5f4c7bb0-c676-4e39-8d3c-f12fc188ee5f',\n",
    " '嘉義':'60831846-f0e4-47f6-9b5b-46323ebdcef7',\n",
    " '台南':'9c5ac6ca-ec89-48f8-aab0-41b738cb1814',\n",
    " '左營':'f2519629-5973-4d08-913b-479cce78a356'\n",
    "}"
   ]
  },
  {
   "cell_type": "code",
   "execution_count": 15,
   "metadata": {
    "nbpresent": {
     "id": "c4077017-b127-475d-acaf-9b9dae62deaa"
    }
   },
   "outputs": [
    {
     "ename": "NameError",
     "evalue": "name 'parse' is not defined",
     "output_type": "error",
     "traceback": [
      "\u001b[0;31m---------------------------------------------------------------------------\u001b[0m",
      "\u001b[0;31mNameError\u001b[0m                                 Traceback (most recent call last)",
      "\u001b[0;32m<ipython-input-15-2d09897e8aa1>\u001b[0m in \u001b[0;36m<module>\u001b[0;34m()\u001b[0m\n\u001b[1;32m      1\u001b[0m \u001b[0mstation\u001b[0m \u001b[0;34m=\u001b[0m \u001b[0;34m{\u001b[0m\u001b[0;34m}\u001b[0m\u001b[0;34m\u001b[0m\u001b[0m\n\u001b[0;32m----> 2\u001b[0;31m \u001b[0;32mfor\u001b[0m \u001b[0mi\u001b[0m \u001b[0;32min\u001b[0m \u001b[0mparse\u001b[0m\u001b[0;34m.\u001b[0m\u001b[0mfindAll\u001b[0m\u001b[0;34m(\u001b[0m\u001b[0;34m'option'\u001b[0m\u001b[0;34m)\u001b[0m\u001b[0;34m:\u001b[0m\u001b[0;34m\u001b[0m\u001b[0m\n\u001b[0m\u001b[1;32m      3\u001b[0m     \u001b[0mprint\u001b[0m\u001b[0;34m(\u001b[0m\u001b[0mi\u001b[0m\u001b[0;34m.\u001b[0m\u001b[0mtext\u001b[0m\u001b[0;34m,\u001b[0m \u001b[0mi\u001b[0m\u001b[0;34m.\u001b[0m\u001b[0mget\u001b[0m\u001b[0;34m(\u001b[0m\u001b[0;34m'value'\u001b[0m\u001b[0;34m)\u001b[0m\u001b[0;34m)\u001b[0m\u001b[0;34m\u001b[0m\u001b[0m\n\u001b[1;32m      4\u001b[0m \u001b[0;31m#     station[i.text] = i.get('value')\u001b[0m\u001b[0;34m\u001b[0m\u001b[0;34m\u001b[0m\u001b[0m\n",
      "\u001b[0;31mNameError\u001b[0m: name 'parse' is not defined"
     ]
    }
   ],
   "source": [
    "station = {}\n",
    "for i in parse.findAll('option'):\n",
    "    print(i.text, i.get('value'))\n",
    "#     station[i.text] = i.get('value')"
   ]
  },
  {
   "cell_type": "code",
   "execution_count": null,
   "metadata": {
    "collapsed": true,
    "nbpresent": {
     "id": "06642e7c-ed4f-44ee-8d13-b39f07c465c1"
    }
   },
   "outputs": [],
   "source": [
    "爬高鐵資料所需參數"
   ]
  },
  {
   "cell_type": "code",
   "execution_count": null,
   "metadata": {
    "collapsed": true,
    "nbpresent": {
     "id": "87aaa7cd-7d5e-4fa6-bd5b-060951739a2a"
    }
   },
   "outputs": [],
   "source": [
    "parameter = {\n",
    "        'StartStation':'2f940836-cedc-41ef-8e28-c2336ac8fe68',\n",
    "        'EndStation':'f2519629-5973-4d08-913b-479cce78a356',\n",
    "        'SearchDate':'2016/12/29',\n",
    "        'SearchTime':'09:00',\n",
    "        'SearchWay':'DepartureInMandarin'\n",
    "        }"
   ]
  },
  {
   "cell_type": "code",
   "execution_count": null,
   "metadata": {
    "collapsed": true,
    "nbpresent": {
     "id": "5313abd6-e72d-417f-991d-ab3941063060"
    }
   },
   "outputs": [],
   "source": [
    "#     parameter['StartStation'] = station.get(StartStation)\n",
    "#     parameter['EndStation'] = station.get(EndStation)\n",
    "#     parameter['SearchDate'] = SearchDate[:4] + '/' + SearchDate[4:6] + '/' + SearchDate[]\n",
    "#     parameter['SearchTime'] = SearchTime[:2] + ':' + SearchTime[2:]"
   ]
  },
  {
   "cell_type": "code",
   "execution_count": 20,
   "metadata": {
    "collapsed": true,
    "nbpresent": {
     "id": "fc8ec9b3-272d-425f-8e6c-80219f7fbb88"
    }
   },
   "outputs": [],
   "source": [
    "# import timeit\n",
    "\n",
    "def THSR(StartStation, EndStation, SearchDate, SearchTime):\n",
    "    \n",
    "    import requests\n",
    "    from bs4 import BeautifulSoup\n",
    "    import pandas as pd\n",
    "    \n",
    "    station = {\n",
    "     '南港':'2f940836-cedc-41ef-8e28-c2336ac8fe68',\n",
    "     '台北':'977abb69-413a-4ccf-a109-0272c24fd490',\n",
    "     '板橋':'e6e26e66-7dc1-458f-b2f3-71ce65fdc95f',\n",
    "     '桃園':'fbd828d8-b1da-4b06-a3bd-680cdca4d2cd',\n",
    "     '新竹':'a7a04c89-900b-4798-95a3-c01c455622f4',\n",
    "     '苗栗':'e8fc2123-2aaf-46ff-ad79-51d4002a1ef3',\n",
    "     '台中':'3301e395-46b8-47aa-aa37-139e15708779',\n",
    "     '彰化':'38b8c40b-aef0-4d66-b257-da96ec51620e',\n",
    "     '雲林':'5f4c7bb0-c676-4e39-8d3c-f12fc188ee5f',\n",
    "     '嘉義':'60831846-f0e4-47f6-9b5b-46323ebdcef7',\n",
    "     '台南':'9c5ac6ca-ec89-48f8-aab0-41b738cb1814',\n",
    "     '左營':'f2519629-5973-4d08-913b-479cce78a356'\n",
    "        }\n",
    "\n",
    "    parameter = {\n",
    "        'StartStation' : station.get(StartStation),\n",
    "        'EndStation' : station.get(EndStation),\n",
    "        'SearchDate' : SearchDate[:4] + '/' + SearchDate[4:6] + '/' + SearchDate[6:],\n",
    "        'SearchTime' : SearchTime[:2] + ':' + SearchTime[2:],\n",
    "        'SearchWay':'DepartureInMandarin'\n",
    "        }\n",
    "    \n",
    "    url = 'https://www.thsrc.com.tw/tw/TimeTable/SearchResult'\n",
    "    \n",
    "#     start = timeit.default_timer() 計算高鐵網站回應時間\n",
    "    html_result = BeautifulSoup(requests.post(url=url, data=parameter).text, 'lxml')\n",
    "#     stop = timeit.default_timer()  計算高鐵網站回應時間\n",
    "#     print(stop-start)              計算高鐵網站回應時間\n",
    "\n",
    "    train_schedule = list() #宣告儲存時刻表變數\n",
    "    for i in html_result.findAll('td', {'class':'toTouch'}): #找尋 html tag 裡面有 td 且屬性 class 為 toTouch\n",
    "        for x in i.findAll('td'):\n",
    "            if x.text != '':\n",
    "                train_schedule.append(x.text)\n",
    "                \n",
    "    train_schedule_to_df = list()            \n",
    "    train_index = len(train_schedule)\n",
    "    start_iter = 0\n",
    "    for x in range(3, train_index, 3):\n",
    "        train_schedule_to_df.append(train_schedule[start_iter:x])\n",
    "        start_iter = x\n",
    "        print(x)\n",
    "             \n",
    "    df_columns = ['車次', '出發時間', '抵達時間']\n",
    "    df_result = pd.DataFrame(data=train_schedule_to_df, columns=df_columns)\n",
    "    \n",
    "    return df_result\n",
    "    \n",
    "    \n",
    "    "
   ]
  },
  {
   "cell_type": "code",
   "execution_count": 22,
   "metadata": {
    "nbpresent": {
     "id": "8f644e87-465c-4e4e-b78f-c31e373f4ac8"
    },
    "scrolled": true
   },
   "outputs": [
    {
     "name": "stdout",
     "output_type": "stream",
     "text": [
      "3\n",
      "6\n",
      "9\n",
      "12\n",
      "15\n",
      "18\n",
      "21\n",
      "24\n",
      "27\n",
      "30\n",
      "33\n",
      "36\n",
      "39\n",
      "42\n",
      "45\n",
      "48\n",
      "51\n",
      "54\n",
      "57\n"
     ]
    },
    {
     "data": {
      "text/html": [
       "<div>\n",
       "<style>\n",
       "    .dataframe thead tr:only-child th {\n",
       "        text-align: right;\n",
       "    }\n",
       "\n",
       "    .dataframe thead th {\n",
       "        text-align: left;\n",
       "    }\n",
       "\n",
       "    .dataframe tbody tr th {\n",
       "        vertical-align: top;\n",
       "    }\n",
       "</style>\n",
       "<table border=\"1\" class=\"dataframe\">\n",
       "  <thead>\n",
       "    <tr style=\"text-align: right;\">\n",
       "      <th></th>\n",
       "      <th>車次</th>\n",
       "      <th>出發時間</th>\n",
       "      <th>抵達時間</th>\n",
       "    </tr>\n",
       "  </thead>\n",
       "  <tbody>\n",
       "    <tr>\n",
       "      <th>0</th>\n",
       "      <td>0129</td>\n",
       "      <td>12:31</td>\n",
       "      <td>14:05</td>\n",
       "    </tr>\n",
       "    <tr>\n",
       "      <th>1</th>\n",
       "      <td>01:34</td>\n",
       "      <td>8折起</td>\n",
       "      <td></td>\n",
       "    </tr>\n",
       "    <tr>\n",
       "      <th>2</th>\n",
       "      <td>0639</td>\n",
       "      <td>12:46</td>\n",
       "      <td>14:45</td>\n",
       "    </tr>\n",
       "    <tr>\n",
       "      <th>3</th>\n",
       "      <td>01:59</td>\n",
       "      <td></td>\n",
       "      <td></td>\n",
       "    </tr>\n",
       "    <tr>\n",
       "      <th>4</th>\n",
       "      <td>0829</td>\n",
       "      <td>13:11</td>\n",
       "      <td>15:25</td>\n",
       "    </tr>\n",
       "    <tr>\n",
       "      <th>5</th>\n",
       "      <td>02:14</td>\n",
       "      <td>65折起</td>\n",
       "      <td></td>\n",
       "    </tr>\n",
       "    <tr>\n",
       "      <th>6</th>\n",
       "      <td>0133</td>\n",
       "      <td>13:31</td>\n",
       "      <td>15:05</td>\n",
       "    </tr>\n",
       "    <tr>\n",
       "      <th>7</th>\n",
       "      <td>01:34</td>\n",
       "      <td>8折起</td>\n",
       "      <td></td>\n",
       "    </tr>\n",
       "    <tr>\n",
       "      <th>8</th>\n",
       "      <td>0645</td>\n",
       "      <td>13:46</td>\n",
       "      <td>15:45</td>\n",
       "    </tr>\n",
       "    <tr>\n",
       "      <th>9</th>\n",
       "      <td>01:59</td>\n",
       "      <td>8折起</td>\n",
       "      <td></td>\n",
       "    </tr>\n",
       "    <tr>\n",
       "      <th>10</th>\n",
       "      <td>0833</td>\n",
       "      <td>14:11</td>\n",
       "      <td>16:25</td>\n",
       "    </tr>\n",
       "    <tr>\n",
       "      <th>11</th>\n",
       "      <td>02:14</td>\n",
       "      <td>8折起</td>\n",
       "      <td></td>\n",
       "    </tr>\n",
       "    <tr>\n",
       "      <th>12</th>\n",
       "      <td>0137</td>\n",
       "      <td>14:31</td>\n",
       "      <td>16:05</td>\n",
       "    </tr>\n",
       "    <tr>\n",
       "      <th>13</th>\n",
       "      <td>01:34</td>\n",
       "      <td></td>\n",
       "      <td></td>\n",
       "    </tr>\n",
       "    <tr>\n",
       "      <th>14</th>\n",
       "      <td>0651</td>\n",
       "      <td>14:46</td>\n",
       "      <td>16:45</td>\n",
       "    </tr>\n",
       "    <tr>\n",
       "      <th>15</th>\n",
       "      <td>01:59</td>\n",
       "      <td></td>\n",
       "      <td></td>\n",
       "    </tr>\n",
       "    <tr>\n",
       "      <th>16</th>\n",
       "      <td>0837</td>\n",
       "      <td>15:11</td>\n",
       "      <td>17:25</td>\n",
       "    </tr>\n",
       "    <tr>\n",
       "      <th>17</th>\n",
       "      <td>02:14</td>\n",
       "      <td>8折起</td>\n",
       "      <td></td>\n",
       "    </tr>\n",
       "    <tr>\n",
       "      <th>18</th>\n",
       "      <td>0141</td>\n",
       "      <td>15:31</td>\n",
       "      <td>17:05</td>\n",
       "    </tr>\n",
       "  </tbody>\n",
       "</table>\n",
       "</div>"
      ],
      "text/plain": [
       "       車次   出發時間   抵達時間\n",
       "0    0129  12:31  14:05\n",
       "1   01:34    8折起       \n",
       "2    0639  12:46  14:45\n",
       "3   01:59              \n",
       "4    0829  13:11  15:25\n",
       "5   02:14   65折起       \n",
       "6    0133  13:31  15:05\n",
       "7   01:34    8折起       \n",
       "8    0645  13:46  15:45\n",
       "9   01:59    8折起       \n",
       "10   0833  14:11  16:25\n",
       "11  02:14    8折起       \n",
       "12   0137  14:31  16:05\n",
       "13  01:34              \n",
       "14   0651  14:46  16:45\n",
       "15  01:59              \n",
       "16   0837  15:11  17:25\n",
       "17  02:14    8折起       \n",
       "18   0141  15:31  17:05"
      ]
     },
     "execution_count": 22,
     "metadata": {},
     "output_type": "execute_result"
    }
   ],
   "source": [
    "THSR('台北', '左營', '20171211', '1230')"
   ]
  }
 ],
 "metadata": {
  "anaconda-cloud": {},
  "kernelspec": {
   "display_name": "Python 3",
   "language": "python",
   "name": "python3"
  },
  "language_info": {
   "codemirror_mode": {
    "name": "ipython",
    "version": 3
   },
   "file_extension": ".py",
   "mimetype": "text/x-python",
   "name": "python",
   "nbconvert_exporter": "python",
   "pygments_lexer": "ipython3",
   "version": "3.6.1"
  },
  "nbpresent": {
   "slides": {},
   "themes": {}
  }
 },
 "nbformat": 4,
 "nbformat_minor": 1
}
