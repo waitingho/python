{
 "cells": [
  {
   "cell_type": "code",
   "execution_count": 4,
   "metadata": {
    "scrolled": true
   },
   "outputs": [
    {
     "name": "stdout",
     "output_type": "stream",
     "text": [
      "冬盟》獅隊少了林志祥 吳桀睿專心練二壘\n",
      "羽球》戴資穎統治女單一整年 中國媒體：仍留遺憾\n",
      "香港羽球超級賽》戴資穎晉8 王子維惜敗諶龍\n",
      "世界盃資格賽》打速度戰 李愷諺獲青睞\n",
      "世界盃資格賽》對抗澳客 陳冠全扛重擔\n",
      "Done\n"
     ]
    }
   ],
   "source": [
    "import urllib.request\n",
    "import json\n",
    "import codecs\n",
    "import sys\n",
    "import argparse as ap\n",
    "import time\n",
    "import datetime\n",
    "import lxml.html\n",
    "from urllib.parse import quote\n",
    "\n",
    "#python main.py 世大運 2015-07-01 2017-07-03 1\n",
    "# def argParse():\n",
    "#     parser=ap.ArgumentParser(description='Liberty Time Net Crawler')\n",
    "#     parser.add_argument(\"keyword\", help=\"Serch Keyword\")\n",
    "#     parser.add_argument(\"start_date\", help=\"Start (2017-01-01)\")\n",
    "#     parser.add_argument(\"end_date\", help=\"End (2017-01-02)\")\n",
    "#     parser.add_argument(\"pages\", help=\"Pages\")\n",
    "#     return parser.parse_args()\n",
    "\n",
    "# args=argParse()\n",
    "# keyword = quote(args.keyword)\n",
    "# start_date = args.start_date\n",
    "# end_date = args.end_date\n",
    "# pages = args.pages\n",
    "\n",
    "keyword = quote('世大運')\n",
    "start_date = '2017-07-01'\n",
    "end_date = '2017-07-03'\n",
    "pages = '1'\n",
    "\n",
    "keyword = quote('世大運')\n",
    "start_date = '2017-11-24'\n",
    "end_date = '2017-11-25'\n",
    "pages = '1'\n",
    "\n",
    "\n",
    "def start_requests():\n",
    "    start_list = start_date.split(\"-\")\n",
    "    end_list = end_date.split(\"-\")\n",
    "    SYear = ''\n",
    "    SMonth = ''\n",
    "    SDay = ''\n",
    "    EYear = ''\n",
    "    EMonth = ''\n",
    "    EDay = ''\n",
    "    if(len(start_list)==3) and (len(end_list)==3):\n",
    "        SYear = start_list[0]\n",
    "        SMonth = start_list[1]\n",
    "        SDay = start_list[2]\n",
    "        EYear = end_list[0]\n",
    "        EMonth = end_list[1]\n",
    "        EDay = end_list[2]\n",
    "    else:\n",
    "        print (\"Date format error.\")\n",
    "  \n",
    "    urls = []\n",
    "    for i in range(1,int(pages)+1):\n",
    "        str_idx = ''+('%s' % i)\n",
    "        #http://news.ltn.com.tw/search?keyword=世大運&conditions=and&SYear=2015&SMonth=6&SDay=27&EYear=2015&EMonth=8&EDay=24&page=1\n",
    "        urls.append('http://news.ltn.com.tw/search?keyword='+keyword+'&conditions=and&SYear='+SYear+'&SMonth='+SMonth+'&SDay='+SDay+'&EYear='+EYear+'&EMonth='+EMonth+'&EDay='+EDay+'&page='+str_idx+'')\n",
    "        for url in urls:\n",
    "            #print (url)\n",
    "            parseLtnNews(url)\n",
    "            time.sleep(0.2)\n",
    "\n",
    "\n",
    "def parseLtnNews(uri):\n",
    "    handle = urllib.request.urlopen(uri)\n",
    "    encoding = handle.headers.get_content_charset()\n",
    "    html_data =  handle.read().decode(encoding)\n",
    "    selector = lxml.html.document_fromstring(html_data)\n",
    "    #  //*[@id=\"newslistul\"]/li\n",
    "    newslist = selector.xpath('//*[@id=\"newslistul\"]/li')\n",
    "    for i in range(len(newslist)):\n",
    "        strTitle = ''\n",
    "        strUrl = ''\n",
    "        strBody = ''\n",
    "        strDate = ''\n",
    "        str_idx = str(i+1)\n",
    "        #           //*[@id=\"newslistul\"]/li[           1]/a[2]/p//text()\n",
    "        str_xpath = '//*[@id=\"newslistul\"]/li['+str_idx+']/a[2]/p//text()'\n",
    "        titleList = selector.xpath(str_xpath)\n",
    "        strTitle = \" \".join(titleList)\n",
    "        #//*[@id=\"newslistul\"]/li[1]/a[2]\n",
    "        str_xpath = '//*[@id=\"newslistul\"]/li['+str_idx+']/a[2]//@href'\n",
    "        urlList = selector.xpath(str_xpath)[0]\n",
    "        strUrl = ''.join(urlList)\n",
    "        strUrl = 'http://news.ltn.com.tw/'+strUrl\n",
    "        str_xpath = '//*[@id=\"newslistul\"]/li['+str_idx+']/p//text()'\n",
    "        bodyList = selector.xpath(str_xpath)\n",
    "        strBody = ''.join(bodyList).replace('\\n','')\n",
    "        str_xpath = '//*[@id=\"newslistul\"]/li['+str_idx+']/span//text()'\n",
    "        dateList = selector.xpath(str_xpath)\n",
    "        strDate = ''.join(dateList).replace(\"&nbsp;\",\"\")[:10]\n",
    "        if len(strTitle)>1:\n",
    "            print(strTitle)\n",
    "            items.append({\n",
    "                \"title\": strTitle,\n",
    "                \"link\":strUrl,\n",
    "                \"body\":strBody,\n",
    "                \"postdate\":strDate,\n",
    "                #\"updatetime\":datetime.datetime.now(),  # MongoDB\n",
    "                \"updatetime\":datetime.datetime.now().strftime('%Y-%m-%d')\n",
    "                })\n",
    "    handle.close()\n",
    "\n",
    "\n",
    "\n",
    "if __name__ == '__main__':\n",
    "    items = []\n",
    "    start_requests();\n",
    "    row_json = json.dumps(items, ensure_ascii=False)\n",
    "    file = codecs.open(urllib.parse.unquote(keyword)+'.json', 'w', encoding='utf-8')\n",
    "#     file = codecs.open('out.json', 'w', encoding='utf-8')\n",
    "    file.write(row_json)\n",
    "    file.close()\n",
    "    #print(row_json)\n",
    "    print(\"Done\")\n"
   ]
  },
  {
   "cell_type": "code",
   "execution_count": 7,
   "metadata": {
    "collapsed": true
   },
   "outputs": [],
   "source": [
    "import scrapy\n",
    "\n",
    "class PCHomeSpider(scrapy.Spider):\n",
    "    name = \"hellow\"\n",
    "\n",
    "    def start_requests(self):\n",
    "        urls = [\n",
    "            'http://24h.pchome.com.tw/index/',\n",
    "            #'http://ecshweb.pchome.com.tw/search/v3.3/all/results?q=Switch&page=1&sort=rnk/dc',\n",
    "        ]\n",
    "        for url in urls:\n",
    "            yield scrapy.Request(url=url, callback=self.parse)\n",
    "\n",
    "    def parse(self, response):\n",
    "        print(response.body)\n",
    "        page = response.url.split(\"/\")[-2]\n",
    "        filename = 'pchome-%s.html' % page\n",
    "        with open(filename, 'wb', encoding='utf-8') as f:\n",
    "            f.write(response.body)\n",
    "        self.log('Saved file %s' % filename)\n",
    "\n",
    "    def parse_2(self, response):\n",
    "        print('')"
   ]
  },
  {
   "cell_type": "code",
   "execution_count": 9,
   "metadata": {},
   "outputs": [
    {
     "ename": "NameError",
     "evalue": "name 'filename' is not defined",
     "output_type": "error",
     "traceback": [
      "\u001b[0;31m---------------------------------------------------------------------------\u001b[0m",
      "\u001b[0;31mNameError\u001b[0m                                 Traceback (most recent call last)",
      "\u001b[0;32m<ipython-input-9-c990ad986801>\u001b[0m in \u001b[0;36m<module>\u001b[0;34m()\u001b[0m\n\u001b[0;32m----> 1\u001b[0;31m \u001b[0mprint\u001b[0m\u001b[0;34m(\u001b[0m\u001b[0mfilename\u001b[0m\u001b[0;34m)\u001b[0m\u001b[0;34m\u001b[0m\u001b[0m\n\u001b[0m",
      "\u001b[0;31mNameError\u001b[0m: name 'filename' is not defined"
     ]
    }
   ],
   "source": [
    "print(filename)"
   ]
  },
  {
   "cell_type": "code",
   "execution_count": null,
   "metadata": {
    "collapsed": true
   },
   "outputs": [],
   "source": []
  }
 ],
 "metadata": {
  "kernelspec": {
   "display_name": "Python 3",
   "language": "python",
   "name": "python3"
  },
  "language_info": {
   "codemirror_mode": {
    "name": "ipython",
    "version": 3
   },
   "file_extension": ".py",
   "mimetype": "text/x-python",
   "name": "python",
   "nbconvert_exporter": "python",
   "pygments_lexer": "ipython3",
   "version": "3.6.1"
  }
 },
 "nbformat": 4,
 "nbformat_minor": 2
}
